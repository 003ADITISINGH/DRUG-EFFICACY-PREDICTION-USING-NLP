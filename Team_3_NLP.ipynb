{
  "nbformat": 4,
  "nbformat_minor": 0,
  "metadata": {
    "colab": {
      "provenance": []
    },
    "kernelspec": {
      "name": "python3",
      "display_name": "Python 3"
    },
    "language_info": {
      "name": "python"
    }
  },
  "cells": [
    {
      "cell_type": "code",
      "source": [],
      "metadata": {
        "id": "dW1Kg4l3i0ZZ"
      },
      "execution_count": null,
      "outputs": []
    },
    {
      "cell_type": "markdown",
      "source": [],
      "metadata": {
        "id": "SCrpAe56i1PI"
      }
    },
    {
      "cell_type": "markdown",
      "source": [
        "##PROJECT PRESENTATION LINK: https://drive.google.com/file/d/1cV-k6T9cDIx_2E6UXwaFszlrs1RM7IUC/view?usp=sharing##"
      ],
      "metadata": {
        "id": "yzW0P96Hi5sN"
      }
    },
    {
      "cell_type": "code",
      "execution_count": null,
      "metadata": {
        "id": "V4fLcbXVENEn"
      },
      "outputs": [],
      "source": [
        "import pandas as pd\n",
        "import numpy as np\n",
        "import matplotlib.pyplot as plt\n",
        "import seaborn as sns\n",
        "import re\n",
        "import nltk\n",
        "from nltk.corpus import stopwords\n",
        "from nltk.stem import WordNetLemmatizer\n",
        "from sklearn.feature_extraction.text import CountVectorizer, TfidfVectorizer\n",
        "from sklearn.model_selection import train_test_split\n",
        "from sklearn.linear_model import LinearRegression\n",
        "from sklearn.metrics import mean_squared_error, r2_score\n"
      ]
    },
    {
      "cell_type": "code",
      "source": [
        "df = pd.read_csv('/content/train.csv')"
      ],
      "metadata": {
        "id": "sWs2GAv8EY42"
      },
      "execution_count": null,
      "outputs": []
    },
    {
      "cell_type": "code",
      "source": [
        "df.head()"
      ],
      "metadata": {
        "colab": {
          "base_uri": "https://localhost:8080/",
          "height": 206
        },
        "id": "iX81OMkhEY1N",
        "outputId": "6c2df6e5-dc41-4455-d253-d8199a77391b"
      },
      "execution_count": null,
      "outputs": [
        {
          "output_type": "execute_result",
          "data": {
            "text/plain": [
              "               name_of_drug  \\\n",
              "0                 Valsartan   \n",
              "1                Guanfacine   \n",
              "2                    Lybrel   \n",
              "3  Buprenorphine / naloxone   \n",
              "4                    Cialis   \n",
              "\n",
              "                                   review_by_patient  \\\n",
              "0  \"It has no side effect, I take it in combinati...   \n",
              "1  \"My son is halfway through his fourth week of ...   \n",
              "2  \"I used to take another oral contraceptive, wh...   \n",
              "3  \"Suboxone has completely turned my life around...   \n",
              "4  \"2nd day on 5mg started to work with rock hard...   \n",
              "\n",
              "   number_of_times_prescribed  base_score  \n",
              "0                          27    8.022969  \n",
              "1                         192    7.858458  \n",
              "2                          17    6.341969  \n",
              "3                          37    6.590176  \n",
              "4                          43    6.144782  "
            ],
            "text/html": [
              "\n",
              "  <div id=\"df-79dd07d1-d608-4a77-94da-76b3b98d9e5a\">\n",
              "    <div class=\"colab-df-container\">\n",
              "      <div>\n",
              "<style scoped>\n",
              "    .dataframe tbody tr th:only-of-type {\n",
              "        vertical-align: middle;\n",
              "    }\n",
              "\n",
              "    .dataframe tbody tr th {\n",
              "        vertical-align: top;\n",
              "    }\n",
              "\n",
              "    .dataframe thead th {\n",
              "        text-align: right;\n",
              "    }\n",
              "</style>\n",
              "<table border=\"1\" class=\"dataframe\">\n",
              "  <thead>\n",
              "    <tr style=\"text-align: right;\">\n",
              "      <th></th>\n",
              "      <th>name_of_drug</th>\n",
              "      <th>review_by_patient</th>\n",
              "      <th>number_of_times_prescribed</th>\n",
              "      <th>base_score</th>\n",
              "    </tr>\n",
              "  </thead>\n",
              "  <tbody>\n",
              "    <tr>\n",
              "      <th>0</th>\n",
              "      <td>Valsartan</td>\n",
              "      <td>\"It has no side effect, I take it in combinati...</td>\n",
              "      <td>27</td>\n",
              "      <td>8.022969</td>\n",
              "    </tr>\n",
              "    <tr>\n",
              "      <th>1</th>\n",
              "      <td>Guanfacine</td>\n",
              "      <td>\"My son is halfway through his fourth week of ...</td>\n",
              "      <td>192</td>\n",
              "      <td>7.858458</td>\n",
              "    </tr>\n",
              "    <tr>\n",
              "      <th>2</th>\n",
              "      <td>Lybrel</td>\n",
              "      <td>\"I used to take another oral contraceptive, wh...</td>\n",
              "      <td>17</td>\n",
              "      <td>6.341969</td>\n",
              "    </tr>\n",
              "    <tr>\n",
              "      <th>3</th>\n",
              "      <td>Buprenorphine / naloxone</td>\n",
              "      <td>\"Suboxone has completely turned my life around...</td>\n",
              "      <td>37</td>\n",
              "      <td>6.590176</td>\n",
              "    </tr>\n",
              "    <tr>\n",
              "      <th>4</th>\n",
              "      <td>Cialis</td>\n",
              "      <td>\"2nd day on 5mg started to work with rock hard...</td>\n",
              "      <td>43</td>\n",
              "      <td>6.144782</td>\n",
              "    </tr>\n",
              "  </tbody>\n",
              "</table>\n",
              "</div>\n",
              "      <button class=\"colab-df-convert\" onclick=\"convertToInteractive('df-79dd07d1-d608-4a77-94da-76b3b98d9e5a')\"\n",
              "              title=\"Convert this dataframe to an interactive table.\"\n",
              "              style=\"display:none;\">\n",
              "        \n",
              "  <svg xmlns=\"http://www.w3.org/2000/svg\" height=\"24px\"viewBox=\"0 0 24 24\"\n",
              "       width=\"24px\">\n",
              "    <path d=\"M0 0h24v24H0V0z\" fill=\"none\"/>\n",
              "    <path d=\"M18.56 5.44l.94 2.06.94-2.06 2.06-.94-2.06-.94-.94-2.06-.94 2.06-2.06.94zm-11 1L8.5 8.5l.94-2.06 2.06-.94-2.06-.94L8.5 2.5l-.94 2.06-2.06.94zm10 10l.94 2.06.94-2.06 2.06-.94-2.06-.94-.94-2.06-.94 2.06-2.06.94z\"/><path d=\"M17.41 7.96l-1.37-1.37c-.4-.4-.92-.59-1.43-.59-.52 0-1.04.2-1.43.59L10.3 9.45l-7.72 7.72c-.78.78-.78 2.05 0 2.83L4 21.41c.39.39.9.59 1.41.59.51 0 1.02-.2 1.41-.59l7.78-7.78 2.81-2.81c.8-.78.8-2.07 0-2.86zM5.41 20L4 18.59l7.72-7.72 1.47 1.35L5.41 20z\"/>\n",
              "  </svg>\n",
              "      </button>\n",
              "      \n",
              "  <style>\n",
              "    .colab-df-container {\n",
              "      display:flex;\n",
              "      flex-wrap:wrap;\n",
              "      gap: 12px;\n",
              "    }\n",
              "\n",
              "    .colab-df-convert {\n",
              "      background-color: #E8F0FE;\n",
              "      border: none;\n",
              "      border-radius: 50%;\n",
              "      cursor: pointer;\n",
              "      display: none;\n",
              "      fill: #1967D2;\n",
              "      height: 32px;\n",
              "      padding: 0 0 0 0;\n",
              "      width: 32px;\n",
              "    }\n",
              "\n",
              "    .colab-df-convert:hover {\n",
              "      background-color: #E2EBFA;\n",
              "      box-shadow: 0px 1px 2px rgba(60, 64, 67, 0.3), 0px 1px 3px 1px rgba(60, 64, 67, 0.15);\n",
              "      fill: #174EA6;\n",
              "    }\n",
              "\n",
              "    [theme=dark] .colab-df-convert {\n",
              "      background-color: #3B4455;\n",
              "      fill: #D2E3FC;\n",
              "    }\n",
              "\n",
              "    [theme=dark] .colab-df-convert:hover {\n",
              "      background-color: #434B5C;\n",
              "      box-shadow: 0px 1px 3px 1px rgba(0, 0, 0, 0.15);\n",
              "      filter: drop-shadow(0px 1px 2px rgba(0, 0, 0, 0.3));\n",
              "      fill: #FFFFFF;\n",
              "    }\n",
              "  </style>\n",
              "\n",
              "      <script>\n",
              "        const buttonEl =\n",
              "          document.querySelector('#df-79dd07d1-d608-4a77-94da-76b3b98d9e5a button.colab-df-convert');\n",
              "        buttonEl.style.display =\n",
              "          google.colab.kernel.accessAllowed ? 'block' : 'none';\n",
              "\n",
              "        async function convertToInteractive(key) {\n",
              "          const element = document.querySelector('#df-79dd07d1-d608-4a77-94da-76b3b98d9e5a');\n",
              "          const dataTable =\n",
              "            await google.colab.kernel.invokeFunction('convertToInteractive',\n",
              "                                                     [key], {});\n",
              "          if (!dataTable) return;\n",
              "\n",
              "          const docLinkHtml = 'Like what you see? Visit the ' +\n",
              "            '<a target=\"_blank\" href=https://colab.research.google.com/notebooks/data_table.ipynb>data table notebook</a>'\n",
              "            + ' to learn more about interactive tables.';\n",
              "          element.innerHTML = '';\n",
              "          dataTable['output_type'] = 'display_data';\n",
              "          await google.colab.output.renderOutput(dataTable, element);\n",
              "          const docLink = document.createElement('div');\n",
              "          docLink.innerHTML = docLinkHtml;\n",
              "          element.appendChild(docLink);\n",
              "        }\n",
              "      </script>\n",
              "    </div>\n",
              "  </div>\n",
              "  "
            ]
          },
          "metadata": {},
          "execution_count": 3
        }
      ]
    },
    {
      "cell_type": "code",
      "source": [
        "df.info()"
      ],
      "metadata": {
        "colab": {
          "base_uri": "https://localhost:8080/"
        },
        "id": "D1dDr6IUEYyo",
        "outputId": "5d757c93-c0e9-4575-8c88-ccdf3b77e522"
      },
      "execution_count": null,
      "outputs": [
        {
          "output_type": "stream",
          "name": "stdout",
          "text": [
            "<class 'pandas.core.frame.DataFrame'>\n",
            "RangeIndex: 32165 entries, 0 to 32164\n",
            "Data columns (total 4 columns):\n",
            " #   Column                      Non-Null Count  Dtype  \n",
            "---  ------                      --------------  -----  \n",
            " 0   name_of_drug                32165 non-null  object \n",
            " 1   review_by_patient           32165 non-null  object \n",
            " 2   number_of_times_prescribed  32165 non-null  int64  \n",
            " 3   base_score                  32165 non-null  float64\n",
            "dtypes: float64(1), int64(1), object(2)\n",
            "memory usage: 1005.3+ KB\n"
          ]
        }
      ]
    },
    {
      "cell_type": "code",
      "source": [
        "df.describe()"
      ],
      "metadata": {
        "colab": {
          "base_uri": "https://localhost:8080/",
          "height": 300
        },
        "id": "gquXayUzEYvj",
        "outputId": "0055a0ed-eeee-4d64-f6c2-592463d15d1e"
      },
      "execution_count": null,
      "outputs": [
        {
          "output_type": "execute_result",
          "data": {
            "text/plain": [
              "       number_of_times_prescribed    base_score\n",
              "count                32165.000000  32165.000000\n",
              "mean                    27.893207      6.664261\n",
              "std                     35.819035      1.588699\n",
              "min                      0.000000      0.899076\n",
              "25%                      6.000000      6.109307\n",
              "50%                     16.000000      6.788245\n",
              "75%                     36.000000      7.900790\n",
              "max                    771.000000      8.992453"
            ],
            "text/html": [
              "\n",
              "  <div id=\"df-54600325-71a4-432a-890e-40aac2462486\">\n",
              "    <div class=\"colab-df-container\">\n",
              "      <div>\n",
              "<style scoped>\n",
              "    .dataframe tbody tr th:only-of-type {\n",
              "        vertical-align: middle;\n",
              "    }\n",
              "\n",
              "    .dataframe tbody tr th {\n",
              "        vertical-align: top;\n",
              "    }\n",
              "\n",
              "    .dataframe thead th {\n",
              "        text-align: right;\n",
              "    }\n",
              "</style>\n",
              "<table border=\"1\" class=\"dataframe\">\n",
              "  <thead>\n",
              "    <tr style=\"text-align: right;\">\n",
              "      <th></th>\n",
              "      <th>number_of_times_prescribed</th>\n",
              "      <th>base_score</th>\n",
              "    </tr>\n",
              "  </thead>\n",
              "  <tbody>\n",
              "    <tr>\n",
              "      <th>count</th>\n",
              "      <td>32165.000000</td>\n",
              "      <td>32165.000000</td>\n",
              "    </tr>\n",
              "    <tr>\n",
              "      <th>mean</th>\n",
              "      <td>27.893207</td>\n",
              "      <td>6.664261</td>\n",
              "    </tr>\n",
              "    <tr>\n",
              "      <th>std</th>\n",
              "      <td>35.819035</td>\n",
              "      <td>1.588699</td>\n",
              "    </tr>\n",
              "    <tr>\n",
              "      <th>min</th>\n",
              "      <td>0.000000</td>\n",
              "      <td>0.899076</td>\n",
              "    </tr>\n",
              "    <tr>\n",
              "      <th>25%</th>\n",
              "      <td>6.000000</td>\n",
              "      <td>6.109307</td>\n",
              "    </tr>\n",
              "    <tr>\n",
              "      <th>50%</th>\n",
              "      <td>16.000000</td>\n",
              "      <td>6.788245</td>\n",
              "    </tr>\n",
              "    <tr>\n",
              "      <th>75%</th>\n",
              "      <td>36.000000</td>\n",
              "      <td>7.900790</td>\n",
              "    </tr>\n",
              "    <tr>\n",
              "      <th>max</th>\n",
              "      <td>771.000000</td>\n",
              "      <td>8.992453</td>\n",
              "    </tr>\n",
              "  </tbody>\n",
              "</table>\n",
              "</div>\n",
              "      <button class=\"colab-df-convert\" onclick=\"convertToInteractive('df-54600325-71a4-432a-890e-40aac2462486')\"\n",
              "              title=\"Convert this dataframe to an interactive table.\"\n",
              "              style=\"display:none;\">\n",
              "        \n",
              "  <svg xmlns=\"http://www.w3.org/2000/svg\" height=\"24px\"viewBox=\"0 0 24 24\"\n",
              "       width=\"24px\">\n",
              "    <path d=\"M0 0h24v24H0V0z\" fill=\"none\"/>\n",
              "    <path d=\"M18.56 5.44l.94 2.06.94-2.06 2.06-.94-2.06-.94-.94-2.06-.94 2.06-2.06.94zm-11 1L8.5 8.5l.94-2.06 2.06-.94-2.06-.94L8.5 2.5l-.94 2.06-2.06.94zm10 10l.94 2.06.94-2.06 2.06-.94-2.06-.94-.94-2.06-.94 2.06-2.06.94z\"/><path d=\"M17.41 7.96l-1.37-1.37c-.4-.4-.92-.59-1.43-.59-.52 0-1.04.2-1.43.59L10.3 9.45l-7.72 7.72c-.78.78-.78 2.05 0 2.83L4 21.41c.39.39.9.59 1.41.59.51 0 1.02-.2 1.41-.59l7.78-7.78 2.81-2.81c.8-.78.8-2.07 0-2.86zM5.41 20L4 18.59l7.72-7.72 1.47 1.35L5.41 20z\"/>\n",
              "  </svg>\n",
              "      </button>\n",
              "      \n",
              "  <style>\n",
              "    .colab-df-container {\n",
              "      display:flex;\n",
              "      flex-wrap:wrap;\n",
              "      gap: 12px;\n",
              "    }\n",
              "\n",
              "    .colab-df-convert {\n",
              "      background-color: #E8F0FE;\n",
              "      border: none;\n",
              "      border-radius: 50%;\n",
              "      cursor: pointer;\n",
              "      display: none;\n",
              "      fill: #1967D2;\n",
              "      height: 32px;\n",
              "      padding: 0 0 0 0;\n",
              "      width: 32px;\n",
              "    }\n",
              "\n",
              "    .colab-df-convert:hover {\n",
              "      background-color: #E2EBFA;\n",
              "      box-shadow: 0px 1px 2px rgba(60, 64, 67, 0.3), 0px 1px 3px 1px rgba(60, 64, 67, 0.15);\n",
              "      fill: #174EA6;\n",
              "    }\n",
              "\n",
              "    [theme=dark] .colab-df-convert {\n",
              "      background-color: #3B4455;\n",
              "      fill: #D2E3FC;\n",
              "    }\n",
              "\n",
              "    [theme=dark] .colab-df-convert:hover {\n",
              "      background-color: #434B5C;\n",
              "      box-shadow: 0px 1px 3px 1px rgba(0, 0, 0, 0.15);\n",
              "      filter: drop-shadow(0px 1px 2px rgba(0, 0, 0, 0.3));\n",
              "      fill: #FFFFFF;\n",
              "    }\n",
              "  </style>\n",
              "\n",
              "      <script>\n",
              "        const buttonEl =\n",
              "          document.querySelector('#df-54600325-71a4-432a-890e-40aac2462486 button.colab-df-convert');\n",
              "        buttonEl.style.display =\n",
              "          google.colab.kernel.accessAllowed ? 'block' : 'none';\n",
              "\n",
              "        async function convertToInteractive(key) {\n",
              "          const element = document.querySelector('#df-54600325-71a4-432a-890e-40aac2462486');\n",
              "          const dataTable =\n",
              "            await google.colab.kernel.invokeFunction('convertToInteractive',\n",
              "                                                     [key], {});\n",
              "          if (!dataTable) return;\n",
              "\n",
              "          const docLinkHtml = 'Like what you see? Visit the ' +\n",
              "            '<a target=\"_blank\" href=https://colab.research.google.com/notebooks/data_table.ipynb>data table notebook</a>'\n",
              "            + ' to learn more about interactive tables.';\n",
              "          element.innerHTML = '';\n",
              "          dataTable['output_type'] = 'display_data';\n",
              "          await google.colab.output.renderOutput(dataTable, element);\n",
              "          const docLink = document.createElement('div');\n",
              "          docLink.innerHTML = docLinkHtml;\n",
              "          element.appendChild(docLink);\n",
              "        }\n",
              "      </script>\n",
              "    </div>\n",
              "  </div>\n",
              "  "
            ]
          },
          "metadata": {},
          "execution_count": 10
        }
      ]
    },
    {
      "cell_type": "code",
      "source": [
        "# Remove duplicate rows\n",
        "df.drop_duplicates(inplace=True)"
      ],
      "metadata": {
        "id": "snKSewYjEYtP"
      },
      "execution_count": null,
      "outputs": []
    },
    {
      "cell_type": "code",
      "source": [
        "# Remove punctuation and special characters\n",
        "df['review_by_patient'] = df['review_by_patient'].apply(lambda x: re.sub('[^a-zA-Z0-9]', ' ', x))\n"
      ],
      "metadata": {
        "id": "o1t-PIz-EYlF"
      },
      "execution_count": null,
      "outputs": []
    },
    {
      "cell_type": "code",
      "source": [
        "df"
      ],
      "metadata": {
        "colab": {
          "base_uri": "https://localhost:8080/",
          "height": 424
        },
        "id": "jAIa5rv4GF7X",
        "outputId": "a6c7ddf1-2d27-4f47-c01f-309154c36cde"
      },
      "execution_count": null,
      "outputs": [
        {
          "output_type": "execute_result",
          "data": {
            "text/plain": [
              "                   name_of_drug  \\\n",
              "0                     Valsartan   \n",
              "1                    Guanfacine   \n",
              "2                        Lybrel   \n",
              "3      Buprenorphine / naloxone   \n",
              "4                        Cialis   \n",
              "...                         ...   \n",
              "32160                  Cymbalta   \n",
              "32161                 Nexplanon   \n",
              "32162               Venlafaxine   \n",
              "32163                Fluoxetine   \n",
              "32164                   Orencia   \n",
              "\n",
              "                                       review_by_patient  \\\n",
              "0      \"It has no side effect, I take it in combinati...   \n",
              "1      \"My son is halfway through his fourth week of ...   \n",
              "2      \"I used to take another oral contraceptive, wh...   \n",
              "3      \"Suboxone has completely turned my life around...   \n",
              "4      \"2nd day on 5mg started to work with rock hard...   \n",
              "...                                                  ...   \n",
              "32160  \"I have been taking Cymbalta for 15 months now...   \n",
              "32161  \"I have had the Nexplanon since Dec. 27, 2016 ...   \n",
              "32162  \"Had panic attacks and social anxiety starting...   \n",
              "32163  \"I have been off Prozac for about 4 weeks now....   \n",
              "32164  \"Limited improvement after 4 months, developed...   \n",
              "\n",
              "       number_of_times_prescribed  base_score  \n",
              "0                              27    8.022969  \n",
              "1                             192    7.858458  \n",
              "2                              17    6.341969  \n",
              "3                              37    6.590176  \n",
              "4                              43    6.144782  \n",
              "...                           ...         ...  \n",
              "32160                          89    6.963020  \n",
              "32161                           0    0.899076  \n",
              "32162                          25    6.241812  \n",
              "32163                          22    7.940428  \n",
              "32164                          35    8.205393  \n",
              "\n",
              "[32165 rows x 4 columns]"
            ],
            "text/html": [
              "\n",
              "  <div id=\"df-526493a5-8115-44e4-9d95-8a108dc76172\">\n",
              "    <div class=\"colab-df-container\">\n",
              "      <div>\n",
              "<style scoped>\n",
              "    .dataframe tbody tr th:only-of-type {\n",
              "        vertical-align: middle;\n",
              "    }\n",
              "\n",
              "    .dataframe tbody tr th {\n",
              "        vertical-align: top;\n",
              "    }\n",
              "\n",
              "    .dataframe thead th {\n",
              "        text-align: right;\n",
              "    }\n",
              "</style>\n",
              "<table border=\"1\" class=\"dataframe\">\n",
              "  <thead>\n",
              "    <tr style=\"text-align: right;\">\n",
              "      <th></th>\n",
              "      <th>name_of_drug</th>\n",
              "      <th>review_by_patient</th>\n",
              "      <th>number_of_times_prescribed</th>\n",
              "      <th>base_score</th>\n",
              "    </tr>\n",
              "  </thead>\n",
              "  <tbody>\n",
              "    <tr>\n",
              "      <th>0</th>\n",
              "      <td>Valsartan</td>\n",
              "      <td>\"It has no side effect, I take it in combinati...</td>\n",
              "      <td>27</td>\n",
              "      <td>8.022969</td>\n",
              "    </tr>\n",
              "    <tr>\n",
              "      <th>1</th>\n",
              "      <td>Guanfacine</td>\n",
              "      <td>\"My son is halfway through his fourth week of ...</td>\n",
              "      <td>192</td>\n",
              "      <td>7.858458</td>\n",
              "    </tr>\n",
              "    <tr>\n",
              "      <th>2</th>\n",
              "      <td>Lybrel</td>\n",
              "      <td>\"I used to take another oral contraceptive, wh...</td>\n",
              "      <td>17</td>\n",
              "      <td>6.341969</td>\n",
              "    </tr>\n",
              "    <tr>\n",
              "      <th>3</th>\n",
              "      <td>Buprenorphine / naloxone</td>\n",
              "      <td>\"Suboxone has completely turned my life around...</td>\n",
              "      <td>37</td>\n",
              "      <td>6.590176</td>\n",
              "    </tr>\n",
              "    <tr>\n",
              "      <th>4</th>\n",
              "      <td>Cialis</td>\n",
              "      <td>\"2nd day on 5mg started to work with rock hard...</td>\n",
              "      <td>43</td>\n",
              "      <td>6.144782</td>\n",
              "    </tr>\n",
              "    <tr>\n",
              "      <th>...</th>\n",
              "      <td>...</td>\n",
              "      <td>...</td>\n",
              "      <td>...</td>\n",
              "      <td>...</td>\n",
              "    </tr>\n",
              "    <tr>\n",
              "      <th>32160</th>\n",
              "      <td>Cymbalta</td>\n",
              "      <td>\"I have been taking Cymbalta for 15 months now...</td>\n",
              "      <td>89</td>\n",
              "      <td>6.963020</td>\n",
              "    </tr>\n",
              "    <tr>\n",
              "      <th>32161</th>\n",
              "      <td>Nexplanon</td>\n",
              "      <td>\"I have had the Nexplanon since Dec. 27, 2016 ...</td>\n",
              "      <td>0</td>\n",
              "      <td>0.899076</td>\n",
              "    </tr>\n",
              "    <tr>\n",
              "      <th>32162</th>\n",
              "      <td>Venlafaxine</td>\n",
              "      <td>\"Had panic attacks and social anxiety starting...</td>\n",
              "      <td>25</td>\n",
              "      <td>6.241812</td>\n",
              "    </tr>\n",
              "    <tr>\n",
              "      <th>32163</th>\n",
              "      <td>Fluoxetine</td>\n",
              "      <td>\"I have been off Prozac for about 4 weeks now....</td>\n",
              "      <td>22</td>\n",
              "      <td>7.940428</td>\n",
              "    </tr>\n",
              "    <tr>\n",
              "      <th>32164</th>\n",
              "      <td>Orencia</td>\n",
              "      <td>\"Limited improvement after 4 months, developed...</td>\n",
              "      <td>35</td>\n",
              "      <td>8.205393</td>\n",
              "    </tr>\n",
              "  </tbody>\n",
              "</table>\n",
              "<p>32165 rows × 4 columns</p>\n",
              "</div>\n",
              "      <button class=\"colab-df-convert\" onclick=\"convertToInteractive('df-526493a5-8115-44e4-9d95-8a108dc76172')\"\n",
              "              title=\"Convert this dataframe to an interactive table.\"\n",
              "              style=\"display:none;\">\n",
              "        \n",
              "  <svg xmlns=\"http://www.w3.org/2000/svg\" height=\"24px\"viewBox=\"0 0 24 24\"\n",
              "       width=\"24px\">\n",
              "    <path d=\"M0 0h24v24H0V0z\" fill=\"none\"/>\n",
              "    <path d=\"M18.56 5.44l.94 2.06.94-2.06 2.06-.94-2.06-.94-.94-2.06-.94 2.06-2.06.94zm-11 1L8.5 8.5l.94-2.06 2.06-.94-2.06-.94L8.5 2.5l-.94 2.06-2.06.94zm10 10l.94 2.06.94-2.06 2.06-.94-2.06-.94-.94-2.06-.94 2.06-2.06.94z\"/><path d=\"M17.41 7.96l-1.37-1.37c-.4-.4-.92-.59-1.43-.59-.52 0-1.04.2-1.43.59L10.3 9.45l-7.72 7.72c-.78.78-.78 2.05 0 2.83L4 21.41c.39.39.9.59 1.41.59.51 0 1.02-.2 1.41-.59l7.78-7.78 2.81-2.81c.8-.78.8-2.07 0-2.86zM5.41 20L4 18.59l7.72-7.72 1.47 1.35L5.41 20z\"/>\n",
              "  </svg>\n",
              "      </button>\n",
              "      \n",
              "  <style>\n",
              "    .colab-df-container {\n",
              "      display:flex;\n",
              "      flex-wrap:wrap;\n",
              "      gap: 12px;\n",
              "    }\n",
              "\n",
              "    .colab-df-convert {\n",
              "      background-color: #E8F0FE;\n",
              "      border: none;\n",
              "      border-radius: 50%;\n",
              "      cursor: pointer;\n",
              "      display: none;\n",
              "      fill: #1967D2;\n",
              "      height: 32px;\n",
              "      padding: 0 0 0 0;\n",
              "      width: 32px;\n",
              "    }\n",
              "\n",
              "    .colab-df-convert:hover {\n",
              "      background-color: #E2EBFA;\n",
              "      box-shadow: 0px 1px 2px rgba(60, 64, 67, 0.3), 0px 1px 3px 1px rgba(60, 64, 67, 0.15);\n",
              "      fill: #174EA6;\n",
              "    }\n",
              "\n",
              "    [theme=dark] .colab-df-convert {\n",
              "      background-color: #3B4455;\n",
              "      fill: #D2E3FC;\n",
              "    }\n",
              "\n",
              "    [theme=dark] .colab-df-convert:hover {\n",
              "      background-color: #434B5C;\n",
              "      box-shadow: 0px 1px 3px 1px rgba(0, 0, 0, 0.15);\n",
              "      filter: drop-shadow(0px 1px 2px rgba(0, 0, 0, 0.3));\n",
              "      fill: #FFFFFF;\n",
              "    }\n",
              "  </style>\n",
              "\n",
              "      <script>\n",
              "        const buttonEl =\n",
              "          document.querySelector('#df-526493a5-8115-44e4-9d95-8a108dc76172 button.colab-df-convert');\n",
              "        buttonEl.style.display =\n",
              "          google.colab.kernel.accessAllowed ? 'block' : 'none';\n",
              "\n",
              "        async function convertToInteractive(key) {\n",
              "          const element = document.querySelector('#df-526493a5-8115-44e4-9d95-8a108dc76172');\n",
              "          const dataTable =\n",
              "            await google.colab.kernel.invokeFunction('convertToInteractive',\n",
              "                                                     [key], {});\n",
              "          if (!dataTable) return;\n",
              "\n",
              "          const docLinkHtml = 'Like what you see? Visit the ' +\n",
              "            '<a target=\"_blank\" href=https://colab.research.google.com/notebooks/data_table.ipynb>data table notebook</a>'\n",
              "            + ' to learn more about interactive tables.';\n",
              "          element.innerHTML = '';\n",
              "          dataTable['output_type'] = 'display_data';\n",
              "          await google.colab.output.renderOutput(dataTable, element);\n",
              "          const docLink = document.createElement('div');\n",
              "          docLink.innerHTML = docLinkHtml;\n",
              "          element.appendChild(docLink);\n",
              "        }\n",
              "      </script>\n",
              "    </div>\n",
              "  </div>\n",
              "  "
            ]
          },
          "metadata": {},
          "execution_count": 12
        }
      ]
    },
    {
      "cell_type": "code",
      "source": [
        "for i in range(df.shape[1]):\n",
        "  print(df.iloc[:,i].unique())"
      ],
      "metadata": {
        "colab": {
          "base_uri": "https://localhost:8080/"
        },
        "id": "l0agexBq9crl",
        "outputId": "d1939dd6-995c-4bf6-b53f-96d3117e76b3"
      },
      "execution_count": null,
      "outputs": [
        {
          "output_type": "stream",
          "name": "stdout",
          "text": [
            "['Valsartan' 'Guanfacine' 'Lybrel' ... 'Benzamycin' 'Midamor' 'Didrex']\n",
            "[' It has no side effect  I take it in combination of Bystolic 5 Mg and Fish Oil '\n",
            " ' My son is halfway through his fourth week of Intuniv  We became concerned when he began this last week  when he started taking the highest dose he will be on  For two days  he could hardly get out of bed  was very cranky  and slept for nearly 8 hours on a drive home from school vacation  very unusual for him   I called his doctor on Monday morning and she said to stick it out a few days  See how he did at school  and with getting up in the morning  The last two days have been problem free  He is MUCH more agreeable than ever  He is less emotional  a good thing   less cranky  He is remembering all the things he should  Overall his behavior is better    We have tried many different medications and so far this is the most effective  '\n",
            " ' I used to take another oral contraceptive  which had 21 pill cycle  and was very happy  very light periods  max 5 days  no other side effects  But it contained hormone gestodene  which is not available in US  so I switched to Lybrel  because the ingredients are similar  When my other pills ended  I started Lybrel immediately  on my first day of period  as the instructions said  And the period lasted for two weeks  When taking the second pack  same two weeks  And now  with third pack things got even worse  my third period lasted for two weeks and now it  039 s the end of the third week  I still have daily brown discharge   The positive side is that I didn  039 t have any other side effects  The idea of being period free was so tempting    Alas  '\n",
            " ...\n",
            " ' Had panic attacks and social anxiety starting in adolescence  Powered through until postpartum depression after my second child and began having severe mood swings  irritability and panic attacks  dizzy spells  heart racing  fainting  chest pain  even when I wasn  039 t feeling stress  Started Effexor on 37 5mg and had almost immediate success  within a week   Felt a little hyper and would feel like I was getting a low jolt of electricity through my legs  but otherwise fine  Gained a bit of weight but I think that  039 s only because I was finally able to eat without stomach pain  Increased to 70mg after two months when panic attacks began again  love this drug  Finally have a normal life  '\n",
            " ' I have been off Prozac for about 4 weeks now   after starting 2 years ago for a terrible depression sadness menopause  Wanted to take a Holiday to see what would happen  When on Prozac side effects like decrease sexual drive and slight weight gain  otherwise it put my menopause symptoms in control Decrease my hot flashes  helped my sadness  and gave relief for some mild OCD that I have had for years  Now when I am off the medicine I notice and increase in my OCD behaviors  Not concentrating as well at work  Sexual appetite is still not that great despite a wonderful patient husband  could still just be the menopause   Hot flashes have not really returned and I do not feel overwhelmingly sad  I will start Prozac tomorrow and see if it help with OCD  '\n",
            " ' Limited improvement after 4 months  developed bad rash and MD refused to continue medication  ']\n",
            "[ 27 192  17  37  43   1  54  39  18  11   4   3  45   9  30  55  94  22\n",
            " 125   6 166  74  35  36   5  31  12  10  46  40  51   7  34 104   0   8\n",
            "  16  13  15  28  24 105 376  14  20  78   2  32 100  41  81  88  19 141\n",
            "  26  69  48  58  60  72  25  33  23 114 173  77  29  80  82  91  68  92\n",
            " 134 129  21  49  70  38  42  62  75  53  56  87  44 112 115 101 165  50\n",
            " 276 172 138  52  79  66 771 136  97  67  65 110  64 232 157 117  85  73\n",
            " 144  76 130  84 107  90  95 139 254  59 140 109 116 133 126 102  47  63\n",
            " 171  83  98 150  71  57 357  89 160  99 264 121 108 196  61 127 120 122\n",
            " 186 148 137 175  93 364 308 159 135 111 152 215  86 168 315 179 146 113\n",
            " 170 176 123 118 309 124 156 181 142 145 174 163  96 235 132 239 128 252\n",
            " 219 207 366 317 149 212 119 214 463 251 199 211 255 177 143 185 103 316\n",
            " 147 169 217 151 205 106 435 220 247 162 257 178 154 180 184 226 286 158\n",
            " 153 476 244 202 190 189 131 225 161 167 263 228 204 198 203 155 282 297\n",
            " 200 238 213 307 259 208 164 556 281 187 292 188 345 335 245 250 293 191\n",
            " 505 246 237 303 195 273 400 343 467 401 342 234 194 372 223 242 344 249\n",
            " 206 243 389 210 287 405 183 266 329 448 201 230 283 289 248 513 236 341\n",
            " 280 356 305 274 182 221 260 233 504 227 197 392 365 346 559]\n",
            "[8.02296894 7.85845814 6.34196947 ... 7.73935182 6.37745897 5.87425334]\n"
          ]
        }
      ]
    },
    {
      "cell_type": "code",
      "source": [
        "for i in range(df.shape[1]):\n",
        "  print(df.iloc[:,i].value_counts())"
      ],
      "metadata": {
        "colab": {
          "base_uri": "https://localhost:8080/"
        },
        "id": "qKXUVJYY9coC",
        "outputId": "a3e58b8e-a085-4946-d94b-36a9a8816cf3"
      },
      "execution_count": null,
      "outputs": [
        {
          "output_type": "stream",
          "name": "stdout",
          "text": [
            "Levonorgestrel                       724\n",
            "Etonogestrel                         628\n",
            "Ethinyl estradiol / norethindrone    547\n",
            "Ethinyl estradiol / norgestimate     425\n",
            "Nexplanon                            397\n",
            "                                    ... \n",
            "Ephedrine / guaifenesin                1\n",
            "Xalkori                                1\n",
            "Methscopolamine                        1\n",
            "Brimonidine / timolol                  1\n",
            "Didrex                                 1\n",
            "Name: name_of_drug, Length: 2220, dtype: int64\n",
            " Good                                                                                                                                                                                                                                                                                                                                                                                                                                                                                                                                                                                                                                                                                                                                                                                                            8\n",
            " Great                                                                                                                                                                                                                                                                                                                                                                                                                                                                                                                                                                                                                                                                                                                                                                                                           7\n",
            " Excellent                                                                                                                                                                                                                                                                                                                                                                                                                                                                                                                                                                                                                                                                                                                                                                                                       4\n",
            " Works great                                                                                                                                                                                                                                                                                                                                                                                                                                                                                                                                                                                                                                                                                                                                                                                                     4\n",
            " Great                                                                                                                                                                                                                                                                                                                                                                                                                                                                                                                                                                                                                                                                                                                                                                                                           4\n",
            "                                                                                                                                                                                                                                                                                                                                                                                                                                                                                                                                                                                                                                                                                                                                                                                                                ..\n",
            " I  039 ve been experiencing tinnitus since a severe ear infection and infection of my mastoid cell located behind my ear on my skull which resulted in extreme fullness and hearing loss  After getting my ear suctioned because antibiotics weren  039 t helping and a tube put in I got my hearing back in my left ear but was left with bothersome tinnitus  To the point it was driving me crazy    That  039 s been 7 years now  My family Dr recently prescribed xanex for my anxiety and panic attacks  I take  5 twice a day and I couldn  039 t believe it all but eliminated 90  of the high pitch in my ear  I still can  039 t believe it and plan bringing it up at my next appointment  I started researching and so happy I  039 m not alone with this experience  I can wait to tell my Dr      1\n",
            " Found this medication very effective in my withdrawals from both alcohol and weed  It stops my racing thoughts and keeps me calm  However it does somewhat make you zombie like and unable to feel emotions                                                                                                                                                                                                                                                                                                                                                                                                                                                                                                                                                                                                     1\n",
            " I try to tell as many friends as possible about the wonders of Nuva ring  It changed my life  I  039 ve been on it for almost 6 years now and the only side effect I  039 ve ever had was bigger boobs   When I go off it they shrink a bit  No pregnancies  I don  039 t have to take it out during sex  and best of all  I don  039 t have to remeber to take a pill  I rarely even get my period because I just leave it in for 4 wks and then put a new one in immediately  My doctor says this is perfectly fine  unless you  039 re trying to concieve soon after you go off bc your cycle will take some time to go back to normal  Please do yourself a favor and try it                                                                                                                                1\n",
            " I was diagnosed with asthma  amp  allergies 15 yrs ago  I am now 65  In the beginning b4 Zolair injections  my asthma would act up  amp  I would cough 4 weeks until I had such a sore throat  broken blood vessels around my eyes  amp  was just miserable      Around 7 yrs ago  my Dr recommended I start Zolair injections every 2 wks  What a difference  like nite  amp  day  I don  039 t have any side effects either  I seldom have asthma flare ups  amp  very little allergy problems  I still use an inhaler morn  amp  nite  amp  carry a rescue inhaler w me  which I seldom use      What a life saver Zolair injections has bn  I have my life back                                                                                                                                             1\n",
            " Limited improvement after 4 months  developed bad rash and MD refused to continue medication                                                                                                                                                                                                                                                                                                                                                                                                                                                                                                                                                                                                                                                                                                                    1\n",
            "Name: review_by_patient, Length: 30117, dtype: int64\n",
            "2      1270\n",
            "3      1255\n",
            "0      1255\n",
            "4      1237\n",
            "1      1205\n",
            "       ... \n",
            "238       1\n",
            "297       1\n",
            "282       1\n",
            "215       1\n",
            "559       1\n",
            "Name: number_of_times_prescribed, Length: 303, dtype: int64\n",
            "7.170997    292\n",
            "8.745991    281\n",
            "6.493653    281\n",
            "6.173134    260\n",
            "8.074493    258\n",
            "           ... \n",
            "8.530035      1\n",
            "6.505984      1\n",
            "7.770829      1\n",
            "8.592949      1\n",
            "5.874253      1\n",
            "Name: base_score, Length: 1383, dtype: int64\n"
          ]
        }
      ]
    },
    {
      "cell_type": "code",
      "source": [
        "df['base_score'].value_counts()"
      ],
      "metadata": {
        "colab": {
          "base_uri": "https://localhost:8080/"
        },
        "id": "DM2mQXJy9pac",
        "outputId": "ee042d1a-d298-4902-86ea-b6cc65dee289"
      },
      "execution_count": null,
      "outputs": [
        {
          "output_type": "execute_result",
          "data": {
            "text/plain": [
              "7.170997    292\n",
              "8.745991    281\n",
              "6.493653    281\n",
              "6.173134    260\n",
              "8.074493    258\n",
              "           ... \n",
              "8.530035      1\n",
              "6.505984      1\n",
              "7.770829      1\n",
              "8.592949      1\n",
              "5.874253      1\n",
              "Name: base_score, Length: 1383, dtype: int64"
            ]
          },
          "metadata": {},
          "execution_count": 9
        }
      ]
    },
    {
      "cell_type": "markdown",
      "source": [
        "# pre-processing"
      ],
      "metadata": {
        "id": "LOs8eEyp928e"
      }
    },
    {
      "cell_type": "code",
      "source": [
        "# Convert all text to lowercase\n",
        "df['review_by_patient'] = df['review_by_patient'].apply(lambda x: x.lower())"
      ],
      "metadata": {
        "id": "wj1nqgukFt4z"
      },
      "execution_count": null,
      "outputs": []
    },
    {
      "cell_type": "code",
      "source": [
        "# Tokenization\n",
        "df['review_by_patient'] = df['review_by_patient'].apply(lambda x: x.split())"
      ],
      "metadata": {
        "id": "KR3Ql3FWFt0z"
      },
      "execution_count": null,
      "outputs": []
    },
    {
      "cell_type": "code",
      "source": [
        "import nltk\n",
        "nltk.download('stopwords')"
      ],
      "metadata": {
        "colab": {
          "base_uri": "https://localhost:8080/"
        },
        "id": "KaXuWwlAGX2G",
        "outputId": "a3cd7e88-dd3a-4ae4-b037-cf7ba3f0bbfd"
      },
      "execution_count": null,
      "outputs": [
        {
          "output_type": "stream",
          "name": "stderr",
          "text": [
            "[nltk_data] Downloading package stopwords to /root/nltk_data...\n",
            "[nltk_data]   Unzipping corpora/stopwords.zip.\n"
          ]
        },
        {
          "output_type": "execute_result",
          "data": {
            "text/plain": [
              "True"
            ]
          },
          "metadata": {},
          "execution_count": 12
        }
      ]
    },
    {
      "cell_type": "code",
      "source": [
        "# Remove stop words\n",
        "stop_words = stopwords.words('english')\n",
        "df['review_by_patient'] = df['review_by_patient'].apply(lambda x: [word for word in x if word not in stop_words])"
      ],
      "metadata": {
        "id": "REDDbEyjFtv5"
      },
      "execution_count": null,
      "outputs": []
    },
    {
      "cell_type": "code",
      "source": [
        "import nltk\n",
        "nltk.download('wordnet')"
      ],
      "metadata": {
        "colab": {
          "base_uri": "https://localhost:8080/"
        },
        "id": "wYJHODGDGnLy",
        "outputId": "11c59f22-998e-4e89-8751-460e0af9f0e4"
      },
      "execution_count": null,
      "outputs": [
        {
          "output_type": "stream",
          "name": "stderr",
          "text": [
            "[nltk_data] Downloading package wordnet to /root/nltk_data...\n"
          ]
        },
        {
          "output_type": "execute_result",
          "data": {
            "text/plain": [
              "True"
            ]
          },
          "metadata": {},
          "execution_count": 14
        }
      ]
    },
    {
      "cell_type": "code",
      "source": [
        "import nltk\n",
        "nltk.download('omw-1.4')"
      ],
      "metadata": {
        "id": "9RXWGWpM-GXQ",
        "colab": {
          "base_uri": "https://localhost:8080/"
        },
        "outputId": "eb9fbd78-49dd-4485-e84a-fb2f72d0c986"
      },
      "execution_count": null,
      "outputs": [
        {
          "output_type": "stream",
          "name": "stderr",
          "text": [
            "[nltk_data] Downloading package omw-1.4 to /root/nltk_data...\n"
          ]
        },
        {
          "output_type": "execute_result",
          "data": {
            "text/plain": [
              "True"
            ]
          },
          "metadata": {},
          "execution_count": 15
        }
      ]
    },
    {
      "cell_type": "code",
      "source": [
        "# Lemmatization\n",
        "lemmatizer = WordNetLemmatizer()\n",
        "df['review_by_patient'] = df['review_by_patient'].apply(lambda x: [lemmatizer.lemmatize(word) for word in x])\n"
      ],
      "metadata": {
        "id": "vqON1mStHCj-"
      },
      "execution_count": null,
      "outputs": []
    },
    {
      "cell_type": "code",
      "source": [
        "# Join the tokens back into sentences\n",
        "df['review_by_patient'] = df['review_by_patient'].apply(lambda x: ' '.join(x))\n",
        "tfidf = TfidfVectorizer()"
      ],
      "metadata": {
        "id": "KWG6WfnvFtjX"
      },
      "execution_count": null,
      "outputs": []
    },
    {
      "cell_type": "code",
      "source": [
        "df"
      ],
      "metadata": {
        "colab": {
          "base_uri": "https://localhost:8080/",
          "height": 423
        },
        "id": "ohsTXCehsUcB",
        "outputId": "dd7e7739-b1a1-4b5d-cb78-f122457d8969"
      },
      "execution_count": null,
      "outputs": [
        {
          "output_type": "execute_result",
          "data": {
            "text/plain": [
              "                   name_of_drug  \\\n",
              "0                     Valsartan   \n",
              "1                    Guanfacine   \n",
              "2                        Lybrel   \n",
              "3      Buprenorphine / naloxone   \n",
              "4                        Cialis   \n",
              "...                         ...   \n",
              "32160                  Cymbalta   \n",
              "32161                 Nexplanon   \n",
              "32162               Venlafaxine   \n",
              "32163                Fluoxetine   \n",
              "32164                   Orencia   \n",
              "\n",
              "                                       review_by_patient  \\\n",
              "0      side effect take combination bystolic 5 mg fis...   \n",
              "1      son halfway fourth week intuniv became concern...   \n",
              "2      used take another oral contraceptive 21 pill c...   \n",
              "3      suboxone completely turned life around feel he...   \n",
              "4      2nd day 5mg started work rock hard erection ho...   \n",
              "...                                                  ...   \n",
              "32160  taking cymbalta 15 month first 30mg six month ...   \n",
              "32161  nexplanon since dec 27 2016 got first period e...   \n",
              "32162  panic attack social anxiety starting adolescen...   \n",
              "32163  prozac 4 week starting 2 year ago terrible dep...   \n",
              "32164  limited improvement 4 month developed bad rash...   \n",
              "\n",
              "       number_of_times_prescribed  base_score  \n",
              "0                              27    8.022969  \n",
              "1                             192    7.858458  \n",
              "2                              17    6.341969  \n",
              "3                              37    6.590176  \n",
              "4                              43    6.144782  \n",
              "...                           ...         ...  \n",
              "32160                          89    6.963020  \n",
              "32161                           0    0.899076  \n",
              "32162                          25    6.241812  \n",
              "32163                          22    7.940428  \n",
              "32164                          35    8.205393  \n",
              "\n",
              "[32165 rows x 4 columns]"
            ],
            "text/html": [
              "\n",
              "  <div id=\"df-b1208ad5-2355-4992-840e-6d863afc297f\">\n",
              "    <div class=\"colab-df-container\">\n",
              "      <div>\n",
              "<style scoped>\n",
              "    .dataframe tbody tr th:only-of-type {\n",
              "        vertical-align: middle;\n",
              "    }\n",
              "\n",
              "    .dataframe tbody tr th {\n",
              "        vertical-align: top;\n",
              "    }\n",
              "\n",
              "    .dataframe thead th {\n",
              "        text-align: right;\n",
              "    }\n",
              "</style>\n",
              "<table border=\"1\" class=\"dataframe\">\n",
              "  <thead>\n",
              "    <tr style=\"text-align: right;\">\n",
              "      <th></th>\n",
              "      <th>name_of_drug</th>\n",
              "      <th>review_by_patient</th>\n",
              "      <th>number_of_times_prescribed</th>\n",
              "      <th>base_score</th>\n",
              "    </tr>\n",
              "  </thead>\n",
              "  <tbody>\n",
              "    <tr>\n",
              "      <th>0</th>\n",
              "      <td>Valsartan</td>\n",
              "      <td>side effect take combination bystolic 5 mg fis...</td>\n",
              "      <td>27</td>\n",
              "      <td>8.022969</td>\n",
              "    </tr>\n",
              "    <tr>\n",
              "      <th>1</th>\n",
              "      <td>Guanfacine</td>\n",
              "      <td>son halfway fourth week intuniv became concern...</td>\n",
              "      <td>192</td>\n",
              "      <td>7.858458</td>\n",
              "    </tr>\n",
              "    <tr>\n",
              "      <th>2</th>\n",
              "      <td>Lybrel</td>\n",
              "      <td>used take another oral contraceptive 21 pill c...</td>\n",
              "      <td>17</td>\n",
              "      <td>6.341969</td>\n",
              "    </tr>\n",
              "    <tr>\n",
              "      <th>3</th>\n",
              "      <td>Buprenorphine / naloxone</td>\n",
              "      <td>suboxone completely turned life around feel he...</td>\n",
              "      <td>37</td>\n",
              "      <td>6.590176</td>\n",
              "    </tr>\n",
              "    <tr>\n",
              "      <th>4</th>\n",
              "      <td>Cialis</td>\n",
              "      <td>2nd day 5mg started work rock hard erection ho...</td>\n",
              "      <td>43</td>\n",
              "      <td>6.144782</td>\n",
              "    </tr>\n",
              "    <tr>\n",
              "      <th>...</th>\n",
              "      <td>...</td>\n",
              "      <td>...</td>\n",
              "      <td>...</td>\n",
              "      <td>...</td>\n",
              "    </tr>\n",
              "    <tr>\n",
              "      <th>32160</th>\n",
              "      <td>Cymbalta</td>\n",
              "      <td>taking cymbalta 15 month first 30mg six month ...</td>\n",
              "      <td>89</td>\n",
              "      <td>6.963020</td>\n",
              "    </tr>\n",
              "    <tr>\n",
              "      <th>32161</th>\n",
              "      <td>Nexplanon</td>\n",
              "      <td>nexplanon since dec 27 2016 got first period e...</td>\n",
              "      <td>0</td>\n",
              "      <td>0.899076</td>\n",
              "    </tr>\n",
              "    <tr>\n",
              "      <th>32162</th>\n",
              "      <td>Venlafaxine</td>\n",
              "      <td>panic attack social anxiety starting adolescen...</td>\n",
              "      <td>25</td>\n",
              "      <td>6.241812</td>\n",
              "    </tr>\n",
              "    <tr>\n",
              "      <th>32163</th>\n",
              "      <td>Fluoxetine</td>\n",
              "      <td>prozac 4 week starting 2 year ago terrible dep...</td>\n",
              "      <td>22</td>\n",
              "      <td>7.940428</td>\n",
              "    </tr>\n",
              "    <tr>\n",
              "      <th>32164</th>\n",
              "      <td>Orencia</td>\n",
              "      <td>limited improvement 4 month developed bad rash...</td>\n",
              "      <td>35</td>\n",
              "      <td>8.205393</td>\n",
              "    </tr>\n",
              "  </tbody>\n",
              "</table>\n",
              "<p>32165 rows × 4 columns</p>\n",
              "</div>\n",
              "      <button class=\"colab-df-convert\" onclick=\"convertToInteractive('df-b1208ad5-2355-4992-840e-6d863afc297f')\"\n",
              "              title=\"Convert this dataframe to an interactive table.\"\n",
              "              style=\"display:none;\">\n",
              "        \n",
              "  <svg xmlns=\"http://www.w3.org/2000/svg\" height=\"24px\"viewBox=\"0 0 24 24\"\n",
              "       width=\"24px\">\n",
              "    <path d=\"M0 0h24v24H0V0z\" fill=\"none\"/>\n",
              "    <path d=\"M18.56 5.44l.94 2.06.94-2.06 2.06-.94-2.06-.94-.94-2.06-.94 2.06-2.06.94zm-11 1L8.5 8.5l.94-2.06 2.06-.94-2.06-.94L8.5 2.5l-.94 2.06-2.06.94zm10 10l.94 2.06.94-2.06 2.06-.94-2.06-.94-.94-2.06-.94 2.06-2.06.94z\"/><path d=\"M17.41 7.96l-1.37-1.37c-.4-.4-.92-.59-1.43-.59-.52 0-1.04.2-1.43.59L10.3 9.45l-7.72 7.72c-.78.78-.78 2.05 0 2.83L4 21.41c.39.39.9.59 1.41.59.51 0 1.02-.2 1.41-.59l7.78-7.78 2.81-2.81c.8-.78.8-2.07 0-2.86zM5.41 20L4 18.59l7.72-7.72 1.47 1.35L5.41 20z\"/>\n",
              "  </svg>\n",
              "      </button>\n",
              "      \n",
              "  <style>\n",
              "    .colab-df-container {\n",
              "      display:flex;\n",
              "      flex-wrap:wrap;\n",
              "      gap: 12px;\n",
              "    }\n",
              "\n",
              "    .colab-df-convert {\n",
              "      background-color: #E8F0FE;\n",
              "      border: none;\n",
              "      border-radius: 50%;\n",
              "      cursor: pointer;\n",
              "      display: none;\n",
              "      fill: #1967D2;\n",
              "      height: 32px;\n",
              "      padding: 0 0 0 0;\n",
              "      width: 32px;\n",
              "    }\n",
              "\n",
              "    .colab-df-convert:hover {\n",
              "      background-color: #E2EBFA;\n",
              "      box-shadow: 0px 1px 2px rgba(60, 64, 67, 0.3), 0px 1px 3px 1px rgba(60, 64, 67, 0.15);\n",
              "      fill: #174EA6;\n",
              "    }\n",
              "\n",
              "    [theme=dark] .colab-df-convert {\n",
              "      background-color: #3B4455;\n",
              "      fill: #D2E3FC;\n",
              "    }\n",
              "\n",
              "    [theme=dark] .colab-df-convert:hover {\n",
              "      background-color: #434B5C;\n",
              "      box-shadow: 0px 1px 3px 1px rgba(0, 0, 0, 0.15);\n",
              "      filter: drop-shadow(0px 1px 2px rgba(0, 0, 0, 0.3));\n",
              "      fill: #FFFFFF;\n",
              "    }\n",
              "  </style>\n",
              "\n",
              "      <script>\n",
              "        const buttonEl =\n",
              "          document.querySelector('#df-b1208ad5-2355-4992-840e-6d863afc297f button.colab-df-convert');\n",
              "        buttonEl.style.display =\n",
              "          google.colab.kernel.accessAllowed ? 'block' : 'none';\n",
              "\n",
              "        async function convertToInteractive(key) {\n",
              "          const element = document.querySelector('#df-b1208ad5-2355-4992-840e-6d863afc297f');\n",
              "          const dataTable =\n",
              "            await google.colab.kernel.invokeFunction('convertToInteractive',\n",
              "                                                     [key], {});\n",
              "          if (!dataTable) return;\n",
              "\n",
              "          const docLinkHtml = 'Like what you see? Visit the ' +\n",
              "            '<a target=\"_blank\" href=https://colab.research.google.com/notebooks/data_table.ipynb>data table notebook</a>'\n",
              "            + ' to learn more about interactive tables.';\n",
              "          element.innerHTML = '';\n",
              "          dataTable['output_type'] = 'display_data';\n",
              "          await google.colab.output.renderOutput(dataTable, element);\n",
              "          const docLink = document.createElement('div');\n",
              "          docLink.innerHTML = docLinkHtml;\n",
              "          element.appendChild(docLink);\n",
              "        }\n",
              "      </script>\n",
              "    </div>\n",
              "  </div>\n",
              "  "
            ]
          },
          "metadata": {},
          "execution_count": 18
        }
      ]
    },
    {
      "cell_type": "markdown",
      "source": [
        "# TFDIF"
      ],
      "metadata": {
        "id": "Xq5U5WVG-SfR"
      }
    },
    {
      "cell_type": "code",
      "source": [
        "from sklearn.feature_extraction.text import TfidfVectorizer,TfidfTransformer\n",
        "from sklearn.feature_extraction.text import CountVectorizer, TfidfVectorizer\n",
        "from sklearn.metrics.pairwise import cosine_similarity\n",
        "import spacy\n",
        "\n",
        "nlp = spacy.load(\"en_core_web_sm\")"
      ],
      "metadata": {
        "colab": {
          "base_uri": "https://localhost:8080/"
        },
        "id": "aujE1rw7-SK9",
        "outputId": "18da03d6-fb82-41ae-cece-e8aaf40bf81b"
      },
      "execution_count": null,
      "outputs": [
        {
          "output_type": "stream",
          "name": "stderr",
          "text": [
            "/usr/local/lib/python3.8/dist-packages/torch/cuda/__init__.py:497: UserWarning: Can't initialize NVML\n",
            "  warnings.warn(\"Can't initialize NVML\")\n"
          ]
        }
      ]
    },
    {
      "cell_type": "code",
      "source": [
        "#With TFIDFVectorizer\n",
        "print(\"\\n\\nWith TFIDFVectorizer\")\n",
        "vectorizer = TfidfVectorizer(max_features=100)\n",
        "X = vectorizer.fit_transform(df.review_by_patient)\n",
        "print(vectorizer.get_feature_names_out())\n",
        "print(X.toarray())\n",
        "print(\"\\n\")"
      ],
      "metadata": {
        "colab": {
          "base_uri": "https://localhost:8080/"
        },
        "id": "hZDv2eN5-cD4",
        "outputId": "8f744aca-479c-4abb-a6ce-9f605cd8a14e"
      },
      "execution_count": null,
      "outputs": [
        {
          "output_type": "stream",
          "name": "stdout",
          "text": [
            "\n",
            "\n",
            "With TFIDFVectorizer\n",
            "['039' '10' 'acne' 'ago' 'almost' 'also' 'amp' 'anxiety' 'away' 'back'\n",
            " 'bad' 'better' 'birth' 'control' 'could' 'cramp' 'day' 'depression'\n",
            " 'doctor' 'dose' 'drug' 'effect' 'even' 'ever' 'every' 'experience' 'far'\n",
            " 'feel' 'feeling' 'felt' 'first' 'get' 'getting' 'go' 'going' 'good' 'got'\n",
            " 'great' 'headache' 'help' 'hour' 'know' 'last' 'life' 'like' 'little'\n",
            " 'lot' 'made' 'make' 'medication' 'medicine' 'mg' 'month' 'mood' 'much'\n",
            " 'nausea' 'never' 'night' 'normal' 'nothing' 'one' 'pain' 'period' 'pill'\n",
            " 'prescribed' 'problem' 'put' 'quot' 'really' 'say' 'severe' 'sex' 'side'\n",
            " 'since' 'skin' 'sleep' 'started' 'still' 'symptom' 'take' 'taking'\n",
            " 'thing' 'think' 'thought' 'time' 'took' 'tried' 'try' 'two' 'use' 'used'\n",
            " 'using' 'week' 'weight' 'well' 'went' 'work' 'worked' 'would' 'year']\n",
            "[[0.         0.         0.         ... 0.         0.         0.        ]\n",
            " [0.         0.         0.         ... 0.         0.         0.        ]\n",
            " [0.12149158 0.         0.         ... 0.         0.         0.        ]\n",
            " ...\n",
            " [0.18214323 0.         0.         ... 0.         0.17306657 0.        ]\n",
            " [0.         0.         0.         ... 0.         0.18189067 0.28411519]\n",
            " [0.         0.         0.         ... 0.         0.         0.        ]]\n",
            "\n",
            "\n"
          ]
        }
      ]
    },
    {
      "cell_type": "code",
      "source": [
        "#With TFIDFVectorizer and removing stop words\n",
        "print(\"\\n\\nWith TFIDFVectorizer and removing stop words\")\n",
        "vectorizer = TfidfVectorizer(stop_words=nlp.Defaults.stop_words,max_features=100)\n",
        "X1 = vectorizer.fit_transform(df.review_by_patient)\n",
        "print(vectorizer.get_feature_names_out())\n",
        "print(X.toarray())\n",
        "print(\"\\n\")"
      ],
      "metadata": {
        "colab": {
          "base_uri": "https://localhost:8080/",
          "height": 657
        },
        "id": "LE_wdza9-idU",
        "outputId": "2b10e1ec-354d-486b-d2a2-8eae3e2db719"
      },
      "execution_count": null,
      "outputs": [
        {
          "output_type": "stream",
          "name": "stdout",
          "text": [
            "\n",
            "\n",
            "With TFIDFVectorizer and removing stop words\n"
          ]
        },
        {
          "output_type": "error",
          "ename": "InvalidParameterError",
          "evalue": "ignored",
          "traceback": [
            "\u001b[0;31m---------------------------------------------------------------------------\u001b[0m",
            "\u001b[0;31mInvalidParameterError\u001b[0m                     Traceback (most recent call last)",
            "\u001b[0;32m<ipython-input-22-d4f5a2f9c8c5>\u001b[0m in \u001b[0;36m<module>\u001b[0;34m\u001b[0m\n\u001b[1;32m      2\u001b[0m \u001b[0mprint\u001b[0m\u001b[0;34m(\u001b[0m\u001b[0;34m\"\\n\\nWith TFIDFVectorizer and removing stop words\"\u001b[0m\u001b[0;34m)\u001b[0m\u001b[0;34m\u001b[0m\u001b[0;34m\u001b[0m\u001b[0m\n\u001b[1;32m      3\u001b[0m \u001b[0mvectorizer\u001b[0m \u001b[0;34m=\u001b[0m \u001b[0mTfidfVectorizer\u001b[0m\u001b[0;34m(\u001b[0m\u001b[0mstop_words\u001b[0m\u001b[0;34m=\u001b[0m\u001b[0mnlp\u001b[0m\u001b[0;34m.\u001b[0m\u001b[0mDefaults\u001b[0m\u001b[0;34m.\u001b[0m\u001b[0mstop_words\u001b[0m\u001b[0;34m,\u001b[0m\u001b[0mmax_features\u001b[0m\u001b[0;34m=\u001b[0m\u001b[0;36m100\u001b[0m\u001b[0;34m)\u001b[0m\u001b[0;34m\u001b[0m\u001b[0;34m\u001b[0m\u001b[0m\n\u001b[0;32m----> 4\u001b[0;31m \u001b[0mX1\u001b[0m \u001b[0;34m=\u001b[0m \u001b[0mvectorizer\u001b[0m\u001b[0;34m.\u001b[0m\u001b[0mfit_transform\u001b[0m\u001b[0;34m(\u001b[0m\u001b[0mdf\u001b[0m\u001b[0;34m.\u001b[0m\u001b[0mreview_by_patient\u001b[0m\u001b[0;34m)\u001b[0m\u001b[0;34m\u001b[0m\u001b[0;34m\u001b[0m\u001b[0m\n\u001b[0m\u001b[1;32m      5\u001b[0m \u001b[0mprint\u001b[0m\u001b[0;34m(\u001b[0m\u001b[0mvectorizer\u001b[0m\u001b[0;34m.\u001b[0m\u001b[0mget_feature_names_out\u001b[0m\u001b[0;34m(\u001b[0m\u001b[0;34m)\u001b[0m\u001b[0;34m)\u001b[0m\u001b[0;34m\u001b[0m\u001b[0;34m\u001b[0m\u001b[0m\n\u001b[1;32m      6\u001b[0m \u001b[0mprint\u001b[0m\u001b[0;34m(\u001b[0m\u001b[0mX\u001b[0m\u001b[0;34m.\u001b[0m\u001b[0mtoarray\u001b[0m\u001b[0;34m(\u001b[0m\u001b[0;34m)\u001b[0m\u001b[0;34m)\u001b[0m\u001b[0;34m\u001b[0m\u001b[0;34m\u001b[0m\u001b[0m\n",
            "\u001b[0;32m/usr/local/lib/python3.8/dist-packages/sklearn/feature_extraction/text.py\u001b[0m in \u001b[0;36mfit_transform\u001b[0;34m(self, raw_documents, y)\u001b[0m\n\u001b[1;32m   2129\u001b[0m             \u001b[0msublinear_tf\u001b[0m\u001b[0;34m=\u001b[0m\u001b[0mself\u001b[0m\u001b[0;34m.\u001b[0m\u001b[0msublinear_tf\u001b[0m\u001b[0;34m,\u001b[0m\u001b[0;34m\u001b[0m\u001b[0;34m\u001b[0m\u001b[0m\n\u001b[1;32m   2130\u001b[0m         )\n\u001b[0;32m-> 2131\u001b[0;31m         \u001b[0mX\u001b[0m \u001b[0;34m=\u001b[0m \u001b[0msuper\u001b[0m\u001b[0;34m(\u001b[0m\u001b[0;34m)\u001b[0m\u001b[0;34m.\u001b[0m\u001b[0mfit_transform\u001b[0m\u001b[0;34m(\u001b[0m\u001b[0mraw_documents\u001b[0m\u001b[0;34m)\u001b[0m\u001b[0;34m\u001b[0m\u001b[0;34m\u001b[0m\u001b[0m\n\u001b[0m\u001b[1;32m   2132\u001b[0m         \u001b[0mself\u001b[0m\u001b[0;34m.\u001b[0m\u001b[0m_tfidf\u001b[0m\u001b[0;34m.\u001b[0m\u001b[0mfit\u001b[0m\u001b[0;34m(\u001b[0m\u001b[0mX\u001b[0m\u001b[0;34m)\u001b[0m\u001b[0;34m\u001b[0m\u001b[0;34m\u001b[0m\u001b[0m\n\u001b[1;32m   2133\u001b[0m         \u001b[0;31m# X is already a transformed view of raw_documents so\u001b[0m\u001b[0;34m\u001b[0m\u001b[0;34m\u001b[0m\u001b[0;34m\u001b[0m\u001b[0m\n",
            "\u001b[0;32m/usr/local/lib/python3.8/dist-packages/sklearn/feature_extraction/text.py\u001b[0m in \u001b[0;36mfit_transform\u001b[0;34m(self, raw_documents, y)\u001b[0m\n\u001b[1;32m   1366\u001b[0m             )\n\u001b[1;32m   1367\u001b[0m \u001b[0;34m\u001b[0m\u001b[0m\n\u001b[0;32m-> 1368\u001b[0;31m         \u001b[0mself\u001b[0m\u001b[0;34m.\u001b[0m\u001b[0m_validate_params\u001b[0m\u001b[0;34m(\u001b[0m\u001b[0;34m)\u001b[0m\u001b[0;34m\u001b[0m\u001b[0;34m\u001b[0m\u001b[0m\n\u001b[0m\u001b[1;32m   1369\u001b[0m         \u001b[0mself\u001b[0m\u001b[0;34m.\u001b[0m\u001b[0m_validate_ngram_range\u001b[0m\u001b[0;34m(\u001b[0m\u001b[0;34m)\u001b[0m\u001b[0;34m\u001b[0m\u001b[0;34m\u001b[0m\u001b[0m\n\u001b[1;32m   1370\u001b[0m         \u001b[0mself\u001b[0m\u001b[0;34m.\u001b[0m\u001b[0m_warn_for_unused_params\u001b[0m\u001b[0;34m(\u001b[0m\u001b[0;34m)\u001b[0m\u001b[0;34m\u001b[0m\u001b[0;34m\u001b[0m\u001b[0m\n",
            "\u001b[0;32m/usr/local/lib/python3.8/dist-packages/sklearn/base.py\u001b[0m in \u001b[0;36m_validate_params\u001b[0;34m(self)\u001b[0m\n\u001b[1;32m    579\u001b[0m         \u001b[0maccepted\u001b[0m \u001b[0mconstraints\u001b[0m\u001b[0;34m.\u001b[0m\u001b[0;34m\u001b[0m\u001b[0;34m\u001b[0m\u001b[0m\n\u001b[1;32m    580\u001b[0m         \"\"\"\n\u001b[0;32m--> 581\u001b[0;31m         validate_parameter_constraints(\n\u001b[0m\u001b[1;32m    582\u001b[0m             \u001b[0mself\u001b[0m\u001b[0;34m.\u001b[0m\u001b[0m_parameter_constraints\u001b[0m\u001b[0;34m,\u001b[0m\u001b[0;34m\u001b[0m\u001b[0;34m\u001b[0m\u001b[0m\n\u001b[1;32m    583\u001b[0m             \u001b[0mself\u001b[0m\u001b[0;34m.\u001b[0m\u001b[0mget_params\u001b[0m\u001b[0;34m(\u001b[0m\u001b[0mdeep\u001b[0m\u001b[0;34m=\u001b[0m\u001b[0;32mFalse\u001b[0m\u001b[0;34m)\u001b[0m\u001b[0;34m,\u001b[0m\u001b[0;34m\u001b[0m\u001b[0;34m\u001b[0m\u001b[0m\n",
            "\u001b[0;32m/usr/local/lib/python3.8/dist-packages/sklearn/utils/_param_validation.py\u001b[0m in \u001b[0;36mvalidate_parameter_constraints\u001b[0;34m(parameter_constraints, params, caller_name)\u001b[0m\n\u001b[1;32m     95\u001b[0m                 )\n\u001b[1;32m     96\u001b[0m \u001b[0;34m\u001b[0m\u001b[0m\n\u001b[0;32m---> 97\u001b[0;31m             raise InvalidParameterError(\n\u001b[0m\u001b[1;32m     98\u001b[0m                 \u001b[0;34mf\"The {param_name!r} parameter of {caller_name} must be\"\u001b[0m\u001b[0;34m\u001b[0m\u001b[0;34m\u001b[0m\u001b[0m\n\u001b[1;32m     99\u001b[0m                 \u001b[0;34mf\" {constraints_str}. Got {param_val!r} instead.\"\u001b[0m\u001b[0;34m\u001b[0m\u001b[0;34m\u001b[0m\u001b[0m\n",
            "\u001b[0;31mInvalidParameterError\u001b[0m: The 'stop_words' parameter of TfidfVectorizer must be a str among {'english'}, an instance of 'list' or None. Got {'’d', 'seeming', 'last', 'several', 'call', 'those', 'under', 'both', 'their', 'without', 'anywhere', 'nowhere', 'really', 'or', 'n‘t', 'ten', 'when', 'each', 'herself', 'whatever', 'yourselves', 'either', 'well', 'only', 'its', 'due', 'some', 'and', 'itself', 'same', 'ourselves', 'seems', 'else', 'no', 'be', '‘d', 'except', 'were', 'make', 'yet', 'move', 'towards', 'thus', 'your', 'more', 'between', 'though', 'latter', 'back', 'so', 'neither', 'was', 'up', 'much', 'own', 'my', 'but', 'often', 'once', 'almost', 'i', 'on', 'has', 'doing', 'behind', 'over', 'always', 'beforehand', 're', 'show', 'therefore', 'thence', 'further', 'her', 'should', 'how', 'thereupon', 'am', 'must', 'upon', 'being', 'not', '’s', 'became', 'next', 'formerly', 'do', '‘ll', 'it', 'besides', 'latterly', 'did', 'therein', 'anyone', 'every', 'less', 'whereas', 'take', \"'ve\", 'toward', 'through', 'which', 'him', 'everything', 'whoever', 'they', 'someone', 'however', 'off', 'put', 'whether', 'many', 'sometimes', 'nobody', 'everyone', 'thereby', 'somehow', 'an', 'noone', 'sometime', 'if', 'forty', 'side', 'together', 'where', 'least', 'had', 'into', 'whither', 'becomes', 'ours', 'perhaps', 'sixty', 'even', 'nothing', 'have', 'wherever', 'enough', 'hence', 'until', 'whenever', 'now', 'beside', 'whole', 'two', 'we', 'per', 'yourself', '’ve', 'unless', 'them', '..."
          ]
        }
      ]
    },
    {
      "cell_type": "code",
      "source": [
        "y = df['base_score']"
      ],
      "metadata": {
        "id": "kmcslZQIHhHq"
      },
      "execution_count": null,
      "outputs": []
    },
    {
      "cell_type": "code",
      "source": [
        "X_train, X_test, y_train, y_test = train_test_split(X, y, test_size=0.3, random_state = 42)"
      ],
      "metadata": {
        "id": "dSvgIr07_hhD"
      },
      "execution_count": null,
      "outputs": []
    },
    {
      "cell_type": "code",
      "source": [
        "import sklearn\n",
        "sklearn.linear_model.LinearRegression()\n",
        "lr = LinearRegression()\n",
        "lr.fit(X_train, y_train)\n",
        "y_pred = lr.predict(X_test)\n",
        "y_pred\n",
        "from sklearn.metrics import mean_squared_error\n",
        "mean_squared_error(y_test,y_pred)"
      ],
      "metadata": {
        "id": "6mW5tnjEHhEI",
        "colab": {
          "base_uri": "https://localhost:8080/"
        },
        "outputId": "26a6b41f-98d3-484c-b1e2-f150ee85751d"
      },
      "execution_count": null,
      "outputs": [
        {
          "output_type": "execute_result",
          "data": {
            "text/plain": [
              "40.94739445591947"
            ]
          },
          "metadata": {},
          "execution_count": 39
        }
      ]
    },
    {
      "cell_type": "code",
      "source": [],
      "metadata": {
        "id": "spZRDSzX_rNO"
      },
      "execution_count": null,
      "outputs": []
    },
    {
      "cell_type": "code",
      "source": [],
      "metadata": {
        "id": "URNw11De_rKP"
      },
      "execution_count": null,
      "outputs": []
    },
    {
      "cell_type": "code",
      "source": [],
      "metadata": {
        "id": "FoRfjCxD_rHS"
      },
      "execution_count": null,
      "outputs": []
    },
    {
      "cell_type": "code",
      "source": [],
      "metadata": {
        "id": "A3-kE-3z_rER"
      },
      "execution_count": null,
      "outputs": []
    },
    {
      "cell_type": "code",
      "source": [],
      "metadata": {
        "id": "qKV4ECmz_rBa"
      },
      "execution_count": null,
      "outputs": []
    },
    {
      "cell_type": "code",
      "source": [],
      "metadata": {
        "id": "0UcZiSCv_q-U"
      },
      "execution_count": null,
      "outputs": []
    },
    {
      "cell_type": "code",
      "source": [],
      "metadata": {
        "id": "DkZudwV7_q7l"
      },
      "execution_count": null,
      "outputs": []
    },
    {
      "cell_type": "code",
      "source": [],
      "metadata": {
        "id": "r_V-Bgz9_q4f"
      },
      "execution_count": null,
      "outputs": []
    },
    {
      "cell_type": "code",
      "source": [],
      "metadata": {
        "id": "pyAdpx30_q1z"
      },
      "execution_count": null,
      "outputs": []
    }
  ]
}